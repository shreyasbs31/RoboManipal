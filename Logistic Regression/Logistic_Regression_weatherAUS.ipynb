{
 "cells": [
  {
   "cell_type": "code",
   "execution_count": 1,
   "metadata": {},
   "outputs": [],
   "source": [
    "import numpy as np\n",
    "import pandas as pd\n",
    "import matplotlib.pyplot as plt\n",
    "import seaborn as sns\n",
    "import joblib"
   ]
  },
  {
   "cell_type": "code",
   "execution_count": 2,
   "metadata": {},
   "outputs": [],
   "source": [
    "X_train = joblib.load(\"X_train_resampled.pkl\")\n",
    "y_train = joblib.load(\"y_train_resampled.pkl\")\n",
    "X_test = joblib.load(\"X_test_resampled.pkl\")\n",
    "y_test = joblib.load(\"y_test_resampled.pkl\")"
   ]
  },
  {
   "cell_type": "code",
   "execution_count": 3,
   "metadata": {},
   "outputs": [],
   "source": [
    "y_train = y_train.values.ravel()\n",
    "y_test = y_test.values.ravel()\n",
    "X_train = X_train.to_numpy()\n",
    "X_test = X_test.to_numpy()"
   ]
  },
  {
   "cell_type": "code",
   "execution_count": 4,
   "metadata": {},
   "outputs": [
    {
     "name": "stdout",
     "output_type": "stream",
     "text": [
      "X_train shape: (116328, 14)\n",
      "y_train shape: (116328,)\n",
      "X_test shape: (29082, 14)\n",
      "y_test shape: (29082,)\n"
     ]
    }
   ],
   "source": [
    "print(\"X_train shape:\", X_train.shape)\n",
    "print(\"y_train shape:\", y_train.shape)\n",
    "print(\"X_test shape:\", X_test.shape)\n",
    "print(\"y_test shape:\", y_test.shape)"
   ]
  },
  {
   "cell_type": "code",
   "execution_count": 5,
   "metadata": {},
   "outputs": [],
   "source": [
    "def sigmoid(z):\n",
    "    return 1 / (1 + np.exp(-z))"
   ]
  },
  {
   "cell_type": "code",
   "execution_count": 6,
   "metadata": {},
   "outputs": [],
   "source": [
    "w = np.zeros(X_train.shape[1])\n",
    "b = 0"
   ]
  },
  {
   "cell_type": "code",
   "execution_count": 7,
   "metadata": {},
   "outputs": [],
   "source": [
    "def predict(X, w, b):\n",
    "    return sigmoid(np.dot(X, w) + b)"
   ]
  },
  {
   "cell_type": "code",
   "execution_count": 8,
   "metadata": {},
   "outputs": [],
   "source": [
    "def compute_cost_logistic_reg(X, y, w, b, lambda_ = 1):\n",
    "    m,n  = X.shape\n",
    "    cost = 0\n",
    "    for i in range(m):\n",
    "        z_i = np.dot(X[i], w) + b\n",
    "        f_wb_i = sigmoid(z_i)\n",
    "        #Done to avoid log(0) as it kept showing me that error.\n",
    "        epsilon = 1e-15 \n",
    "        f_wb_i = np.clip(f_wb_i, epsilon, 1 - epsilon)\n",
    "        cost += -y[i]*np.log(f_wb_i) - (1 - y[i])*np.log(1 - f_wb_i)\n",
    "        cost += -y[i]*np.log(f_wb_i) - (1 - y[i])*np.log(1 - f_wb_i)\n",
    "    \n",
    "    cost = cost/m\n",
    "    cost += (lambda_/(2*m)) * np.sum(np.square(w))\n",
    "    return cost"
   ]
  },
  {
   "cell_type": "code",
   "execution_count": 9,
   "metadata": {},
   "outputs": [],
   "source": [
    "# def compute_gradient_logistic_reg(X, y, w, b, lambda_): \n",
    "\n",
    "#     m,n = X.shape\n",
    "#     dj_dw = np.zeros((n,))                            \n",
    "#     dj_db = 0.0                                       \n",
    "\n",
    "#     for i in range(m):\n",
    "#         f_wb_i = sigmoid(np.dot(X[i],w) + b)          \n",
    "#         err_i  = f_wb_i  - y[i]                       \n",
    "#         for j in range(n):\n",
    "#             dj_dw[j] = dj_dw[j] + err_i * X[i,j]      \n",
    "#         dj_db = dj_db + err_i\n",
    "#     dj_dw = dj_dw/m                                   \n",
    "#     dj_db = dj_db/m                                   \n",
    "\n",
    "#     for j in range(n):\n",
    "#         dj_dw[j] = dj_dw[j] + (lambda_/m) * w[j]\n",
    "\n",
    "#     return dj_db, dj_dw  \n"
   ]
  },
  {
   "cell_type": "code",
   "execution_count": 10,
   "metadata": {},
   "outputs": [],
   "source": [
    "def compute_gradient_logistic_reg(X, y, w, b, lambda_):\n",
    "    m, n = X.shape\n",
    "\n",
    "    z = np.dot(X, w) + b         \n",
    "    f_wb = sigmoid(z)            \n",
    " \n",
    "    error = f_wb - y             \n",
    "\n",
    "    dj_dw = (np.dot(X.T, error) / m) + (lambda_ / m) * w  \n",
    "    dj_db = np.sum(error) / m                          \n",
    "\n",
    "    return dj_db, dj_dw"
   ]
  },
  {
   "cell_type": "code",
   "execution_count": 11,
   "metadata": {},
   "outputs": [],
   "source": [
    "def gradient_descent_logistic_reg(X, y, w_in, b_in, alpha, num_iters, lambda_, compute_cost, compute_gradient): \n",
    "\n",
    "    w = w_in.copy()\n",
    "    b = b_in\n",
    "    J_history = []\n",
    "\n",
    "    for i in range(num_iters):\n",
    "        dj_db, dj_dw = compute_gradient(X, y, w, b, lambda_)\n",
    "\n",
    "        w -= alpha * dj_dw\n",
    "        b -= alpha * dj_db\n",
    "\n",
    "        if i % 100 == 0 or i == num_iters - 1:\n",
    "            cost = compute_cost(X, y, w, b, lambda_)\n",
    "            J_history.append(cost)\n",
    "            print(f\"Iteration {i:4d}: Cost {cost:.6f}\")\n",
    "\n",
    "    return w, b, J_history"
   ]
  },
  {
   "cell_type": "code",
   "execution_count": 12,
   "metadata": {},
   "outputs": [],
   "source": [
    "w_i = np.zeros(X_train.shape[1])\n",
    "b_i = 0\n"
   ]
  },
  {
   "cell_type": "code",
   "execution_count": 13,
   "metadata": {},
   "outputs": [
    {
     "name": "stdout",
     "output_type": "stream",
     "text": [
      "Iteration    0: Cost 1.316497\n",
      "Iteration  100: Cost 0.734128\n",
      "Iteration  200: Cost 0.708881\n",
      "Iteration  300: Cost 0.700577\n",
      "Iteration  400: Cost 0.696591\n",
      "Iteration  500: Cost 0.694337\n",
      "Iteration  600: Cost 0.692926\n",
      "Iteration  700: Cost 0.691971\n",
      "Iteration  800: Cost 0.691281\n",
      "Iteration  900: Cost 0.690756\n",
      "Iteration 1000: Cost 0.690339\n",
      "Iteration 1100: Cost 0.689995\n",
      "Iteration 1200: Cost 0.689705\n",
      "Iteration 1300: Cost 0.689454\n",
      "Iteration 1400: Cost 0.689234\n",
      "Iteration 1500: Cost 0.689038\n",
      "Iteration 1600: Cost 0.688861\n",
      "Iteration 1700: Cost 0.688700\n",
      "Iteration 1800: Cost 0.688553\n",
      "Iteration 1900: Cost 0.688416\n",
      "Iteration 2000: Cost 0.688290\n",
      "Iteration 2100: Cost 0.688171\n",
      "Iteration 2200: Cost 0.688060\n",
      "Iteration 2300: Cost 0.687955\n",
      "Iteration 2400: Cost 0.687855\n",
      "Iteration 2500: Cost 0.687760\n",
      "Iteration 2600: Cost 0.687670\n",
      "Iteration 2700: Cost 0.687583\n",
      "Iteration 2800: Cost 0.687501\n",
      "Iteration 2900: Cost 0.687421\n",
      "Iteration 3000: Cost 0.687344\n",
      "Iteration 3100: Cost 0.687270\n",
      "Iteration 3200: Cost 0.687199\n",
      "Iteration 3300: Cost 0.687129\n",
      "Iteration 3400: Cost 0.687062\n",
      "Iteration 3500: Cost 0.686997\n",
      "Iteration 3600: Cost 0.686933\n",
      "Iteration 3700: Cost 0.686872\n",
      "Iteration 3800: Cost 0.686812\n",
      "Iteration 3900: Cost 0.686753\n",
      "Iteration 4000: Cost 0.686696\n",
      "Iteration 4100: Cost 0.686641\n",
      "Iteration 4200: Cost 0.686586\n",
      "Iteration 4300: Cost 0.686533\n",
      "Iteration 4400: Cost 0.686481\n",
      "Iteration 4500: Cost 0.686430\n",
      "Iteration 4600: Cost 0.686381\n",
      "Iteration 4700: Cost 0.686332\n",
      "Iteration 4800: Cost 0.686284\n",
      "Iteration 4900: Cost 0.686238\n",
      "Iteration 5000: Cost 0.686192\n",
      "Iteration 5100: Cost 0.686147\n",
      "Iteration 5200: Cost 0.686103\n",
      "Iteration 5300: Cost 0.686060\n",
      "Iteration 5400: Cost 0.686017\n",
      "Iteration 5500: Cost 0.685976\n",
      "Iteration 5600: Cost 0.685935\n",
      "Iteration 5700: Cost 0.685895\n",
      "Iteration 5800: Cost 0.685855\n",
      "Iteration 5900: Cost 0.685816\n",
      "Iteration 6000: Cost 0.685778\n",
      "Iteration 6100: Cost 0.685741\n",
      "Iteration 6200: Cost 0.685704\n",
      "Iteration 6300: Cost 0.685668\n",
      "Iteration 6400: Cost 0.685632\n",
      "Iteration 6500: Cost 0.685597\n",
      "Iteration 6600: Cost 0.685563\n",
      "Iteration 6700: Cost 0.685529\n",
      "Iteration 6800: Cost 0.685496\n",
      "Iteration 6900: Cost 0.685463\n",
      "Iteration 7000: Cost 0.685431\n",
      "Iteration 7100: Cost 0.685399\n",
      "Iteration 7200: Cost 0.685368\n",
      "Iteration 7300: Cost 0.685337\n",
      "Iteration 7400: Cost 0.685307\n",
      "Iteration 7500: Cost 0.685277\n",
      "Iteration 7600: Cost 0.685248\n",
      "Iteration 7700: Cost 0.685219\n",
      "Iteration 7800: Cost 0.685190\n",
      "Iteration 7900: Cost 0.685162\n",
      "Iteration 8000: Cost 0.685135\n",
      "Iteration 8100: Cost 0.685107\n",
      "Iteration 8200: Cost 0.685080\n",
      "Iteration 8300: Cost 0.685054\n",
      "Iteration 8400: Cost 0.685028\n",
      "Iteration 8500: Cost 0.685002\n",
      "Iteration 8600: Cost 0.684977\n",
      "Iteration 8700: Cost 0.684952\n",
      "Iteration 8800: Cost 0.684928\n",
      "Iteration 8900: Cost 0.684903\n",
      "Iteration 9000: Cost 0.684879\n",
      "Iteration 9100: Cost 0.684856\n",
      "Iteration 9200: Cost 0.684833\n",
      "Iteration 9300: Cost 0.684810\n",
      "Iteration 9400: Cost 0.684787\n",
      "Iteration 9500: Cost 0.684765\n",
      "Iteration 9600: Cost 0.684743\n",
      "Iteration 9700: Cost 0.684722\n",
      "Iteration 9800: Cost 0.684700\n",
      "Iteration 9900: Cost 0.684679\n",
      "Iteration 9999: Cost 0.684659\n"
     ]
    }
   ],
   "source": [
    "alpha = 0.1\n",
    "lambda_ = 100\n",
    "num_iters = 10000\n",
    "\n",
    "\n",
    "w_trained, b_trained, cost_history = gradient_descent_logistic_reg(\n",
    "    X_train, y_train, w_i, b_i,\n",
    "    alpha, num_iters, lambda_,\n",
    "    compute_cost_logistic_reg,\n",
    "    compute_gradient_logistic_reg\n",
    ")"
   ]
  },
  {
   "cell_type": "code",
   "execution_count": 14,
   "metadata": {},
   "outputs": [
    {
     "data": {
      "image/png": "[encoded data removed]",
      "text/plain": [
       "<Figure size 640x480 with 1 Axes>"
      ]
     },
     "metadata": {},
     "output_type": "display_data"
    }
   ],
   "source": [
    "plt.plot(cost_history)\n",
    "plt.xlabel(\"Iterations (per 100)\")\n",
    "plt.ylabel(\"Cost\")\n",
    "plt.title(\"Training Cost over Iterations\")\n",
    "plt.grid(True)\n",
    "plt.show()"
   ]
  },
  {
   "cell_type": "code",
   "execution_count": 15,
   "metadata": {},
   "outputs": [],
   "source": [
    "def predict(X, w, b):\n",
    "    z = np.dot(X, w) + b\n",
    "    preds = sigmoid(z)\n",
    "    return preds >= 0.5"
   ]
  },
  {
   "cell_type": "code",
   "execution_count": 16,
   "metadata": {},
   "outputs": [],
   "source": [
    "y_pred_test = predict(X_test, w_trained, b_trained).astype(int)\n",
    "y_pred_train = predict(X_train, w_trained, b_trained).astype(int)"
   ]
  },
  {
   "cell_type": "code",
   "execution_count": 17,
   "metadata": {},
   "outputs": [
    {
     "name": "stdout",
     "output_type": "stream",
     "text": [
      "Accuracy on test set: 83.55%\n",
      "Accuracy on training set: 84.20%\n"
     ]
    }
   ],
   "source": [
    "def compute_accuracy(y_true, y_pred):\n",
    "    return np.mean(y_true == y_pred) * 100\n",
    "\n",
    "accuracy_test = compute_accuracy(y_test, y_pred_test)\n",
    "print(f\"Accuracy on test set: {accuracy_test:.2f}%\")\n",
    "\n",
    "accuracy_train = compute_accuracy(y_train, y_pred_train)\n",
    "print(f\"Accuracy on training set: {accuracy_train:.2f}%\")"
   ]
  },
  {
   "cell_type": "code",
   "execution_count": 18,
   "metadata": {},
   "outputs": [],
   "source": [
    "# 0.1, 10, 10000\n",
    "# Accuracy on test set: 86.06%\n",
    "# Accuracy on training set: 84.28%"
   ]
  },
  {
   "cell_type": "code",
   "execution_count": 19,
   "metadata": {},
   "outputs": [],
   "source": [
    "def confusion_matrix_manual(y_true, y_pred):\n",
    "    TP = np.sum((y_true == 1) & (y_pred == 1))\n",
    "    TN = np.sum((y_true == 0) & (y_pred == 0))\n",
    "    FP = np.sum((y_true == 0) & (y_pred == 1))\n",
    "    FN = np.sum((y_true == 1) & (y_pred == 0))\n",
    "    \n",
    "    return np.array([[TN, FP],\n",
    "                     [FN, TP]])"
   ]
  },
  {
   "cell_type": "code",
   "execution_count": 20,
   "metadata": {},
   "outputs": [],
   "source": [
    "cm_test = confusion_matrix_manual(y_test, y_pred_test)\n",
    "cm_train = confusion_matrix_manual(y_train, y_pred_train)"
   ]
  },
  {
   "cell_type": "code",
   "execution_count": 21,
   "metadata": {},
   "outputs": [
    {
     "data": {
      "image/png": "[encoded data removed]",
      "text/plain": [
       "<Figure size 600x400 with 2 Axes>"
      ]
     },
     "metadata": {},
     "output_type": "display_data"
    }
   ],
   "source": [
    "labels = ['No Rain', 'Rain']\n",
    "plt.figure(figsize=(6,4))\n",
    "sns.heatmap(cm_test, annot=True, fmt=\"d\", cmap=\"Blues\", xticklabels=labels, yticklabels=labels)\n",
    "plt.xlabel(\"Predicted\")\n",
    "plt.ylabel(\"Actual\")\n",
    "plt.title(\"Confusion Matrix (Test Set)\")\n",
    "plt.show()"
   ]
  },
  {
   "cell_type": "code",
   "execution_count": 22,
   "metadata": {},
   "outputs": [
    {
     "data": {
      "image/png": "[encoded data removed]",
      "text/plain": [
       "<Figure size 600x400 with 2 Axes>"
      ]
     },
     "metadata": {},
     "output_type": "display_data"
    }
   ],
   "source": [
    "labels = ['No Rain', 'Rain']\n",
    "plt.figure(figsize=(6,4))\n",
    "sns.heatmap(cm_train, annot=True, fmt=\"d\", cmap=\"Blues\", xticklabels=labels, yticklabels=labels)\n",
    "plt.xlabel(\"Predicted\")\n",
    "plt.ylabel(\"Actual\")\n",
    "plt.title(\"Confusion Matrix (Train Set)\")\n",
    "plt.show()"
   ]
  },
  {
   "cell_type": "code",
   "execution_count": 23,
   "metadata": {},
   "outputs": [
    {
     "name": "stdout",
     "output_type": "stream",
     "text": [
      "Test Set:\n",
      "Precision: 0.8811\n",
      "Recall:    0.7758\n",
      "F1 Score:  0.8251\n"
     ]
    }
   ],
   "source": [
    "TN, FP, FN, TP = cm_test.ravel()\n",
    "\n",
    "precision = TP / (TP + FP) if (TP + FP) > 0 else 0\n",
    "recall    = TP / (TP + FN) if (TP + FN) > 0 else 0\n",
    "f1_score  = 2 * (precision * recall) / (precision + recall) if (precision + recall) > 0 else 0\n",
    "\n",
    "print(\"Test Set:\")\n",
    "print(f\"Precision: {precision:.4f}\")\n",
    "print(f\"Recall:    {recall:.4f}\")\n",
    "print(f\"F1 Score:  {f1_score:.4f}\")"
   ]
  },
  {
   "cell_type": "code",
   "execution_count": 24,
   "metadata": {},
   "outputs": [
    {
     "name": "stdout",
     "output_type": "stream",
     "text": [
      "Train Set:\n",
      "Precision: 0.8835\n",
      "Recall:    0.7879\n",
      "F1 Score:  0.8330\n"
     ]
    }
   ],
   "source": [
    "TN, FP, FN, TP = cm_train.ravel()\n",
    "precision = TP / (TP + FP) if (TP + FP) > 0 else 0 \n",
    "recall    = TP / (TP + FN) if (TP + FN) > 0 else 0\n",
    "f1_score  = 2 * (precision * recall) / (precision + recall) if (precision + recall) > 0 else 0\n",
    "\n",
    "print(\"Train Set:\")\n",
    "print(f\"Precision: {precision:.4f}\")\n",
    "print(f\"Recall:    {recall:.4f}\")\n",
    "print(f\"F1 Score:  {f1_score:.4f}\")"
   ]
  }
 ],
 "metadata": {
  "kernelspec": {
   "display_name": ".venv",
   "language": "python",
   "name": "python3"
  },
  "language_info": {
   "codemirror_mode": {
    "name": "ipython",
    "version": 3
   },
   "file_extension": ".py",
   "mimetype": "text/x-python",
   "name": "python",
   "nbconvert_exporter": "python",
   "pygments_lexer": "ipython3",
   "version": "3.9.6"
  }
 },
 "nbformat": 4,
 "nbformat_minor": 2
}
