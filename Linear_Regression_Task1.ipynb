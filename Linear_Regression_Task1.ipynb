{
 "cells": [
  {
   "cell_type": "code",
   "execution_count": null,
   "metadata": {},
   "outputs": [],
   "source": [
    "import numpy as np\n",
    "import pandas as pd\n",
    "import matplotlib.pyplot as plt\n",
    "import seaborn as sns\n"
   ]
  },
  {
   "cell_type": "code",
   "execution_count": null,
   "metadata": {},
   "outputs": [
    {
     "data": {
      "text/html": [
       "<div>\n",
       "<style scoped>\n",
       "    .dataframe tbody tr th:only-of-type {\n",
       "        vertical-align: middle;\n",
       "    }\n",
       "\n",
       "    .dataframe tbody tr th {\n",
       "        vertical-align: top;\n",
       "    }\n",
       "\n",
       "    .dataframe thead th {\n",
       "        text-align: right;\n",
       "    }\n",
       "</style>\n",
       "<table border=\"1\" class=\"dataframe\">\n",
       "  <thead>\n",
       "    <tr style=\"text-align: right;\">\n",
       "      <th></th>\n",
       "      <th>AGE</th>\n",
       "      <th>FEMALE</th>\n",
       "      <th>LOS</th>\n",
       "      <th>RACE</th>\n",
       "      <th>TOTCHG</th>\n",
       "      <th>APRDRG</th>\n",
       "    </tr>\n",
       "  </thead>\n",
       "  <tbody>\n",
       "    <tr>\n",
       "      <th>0</th>\n",
       "      <td>17</td>\n",
       "      <td>1</td>\n",
       "      <td>2</td>\n",
       "      <td>1.0</td>\n",
       "      <td>2660</td>\n",
       "      <td>560</td>\n",
       "    </tr>\n",
       "    <tr>\n",
       "      <th>1</th>\n",
       "      <td>17</td>\n",
       "      <td>0</td>\n",
       "      <td>2</td>\n",
       "      <td>1.0</td>\n",
       "      <td>1689</td>\n",
       "      <td>753</td>\n",
       "    </tr>\n",
       "    <tr>\n",
       "      <th>2</th>\n",
       "      <td>17</td>\n",
       "      <td>1</td>\n",
       "      <td>7</td>\n",
       "      <td>1.0</td>\n",
       "      <td>20060</td>\n",
       "      <td>930</td>\n",
       "    </tr>\n",
       "    <tr>\n",
       "      <th>3</th>\n",
       "      <td>17</td>\n",
       "      <td>1</td>\n",
       "      <td>1</td>\n",
       "      <td>1.0</td>\n",
       "      <td>736</td>\n",
       "      <td>758</td>\n",
       "    </tr>\n",
       "    <tr>\n",
       "      <th>4</th>\n",
       "      <td>17</td>\n",
       "      <td>1</td>\n",
       "      <td>1</td>\n",
       "      <td>1.0</td>\n",
       "      <td>1194</td>\n",
       "      <td>754</td>\n",
       "    </tr>\n",
       "    <tr>\n",
       "      <th>...</th>\n",
       "      <td>...</td>\n",
       "      <td>...</td>\n",
       "      <td>...</td>\n",
       "      <td>...</td>\n",
       "      <td>...</td>\n",
       "      <td>...</td>\n",
       "    </tr>\n",
       "    <tr>\n",
       "      <th>495</th>\n",
       "      <td>0</td>\n",
       "      <td>1</td>\n",
       "      <td>6</td>\n",
       "      <td>1.0</td>\n",
       "      <td>5881</td>\n",
       "      <td>636</td>\n",
       "    </tr>\n",
       "    <tr>\n",
       "      <th>496</th>\n",
       "      <td>0</td>\n",
       "      <td>1</td>\n",
       "      <td>2</td>\n",
       "      <td>1.0</td>\n",
       "      <td>1171</td>\n",
       "      <td>640</td>\n",
       "    </tr>\n",
       "    <tr>\n",
       "      <th>497</th>\n",
       "      <td>0</td>\n",
       "      <td>1</td>\n",
       "      <td>2</td>\n",
       "      <td>1.0</td>\n",
       "      <td>1171</td>\n",
       "      <td>640</td>\n",
       "    </tr>\n",
       "    <tr>\n",
       "      <th>498</th>\n",
       "      <td>0</td>\n",
       "      <td>1</td>\n",
       "      <td>2</td>\n",
       "      <td>1.0</td>\n",
       "      <td>1086</td>\n",
       "      <td>640</td>\n",
       "    </tr>\n",
       "    <tr>\n",
       "      <th>499</th>\n",
       "      <td>0</td>\n",
       "      <td>0</td>\n",
       "      <td>4</td>\n",
       "      <td>1.0</td>\n",
       "      <td>4931</td>\n",
       "      <td>640</td>\n",
       "    </tr>\n",
       "  </tbody>\n",
       "</table>\n",
       "<p>500 rows × 6 columns</p>\n",
       "</div>"
      ],
      "text/plain": [
       "     AGE  FEMALE  LOS  RACE  TOTCHG  APRDRG\n",
       "0     17       1    2   1.0    2660     560\n",
       "1     17       0    2   1.0    1689     753\n",
       "2     17       1    7   1.0   20060     930\n",
       "3     17       1    1   1.0     736     758\n",
       "4     17       1    1   1.0    1194     754\n",
       "..   ...     ...  ...   ...     ...     ...\n",
       "495    0       1    6   1.0    5881     636\n",
       "496    0       1    2   1.0    1171     640\n",
       "497    0       1    2   1.0    1171     640\n",
       "498    0       1    2   1.0    1086     640\n",
       "499    0       0    4   1.0    4931     640\n",
       "\n",
       "[500 rows x 6 columns]"
      ]
     },
     "execution_count": 2,
     "metadata": {},
     "output_type": "execute_result"
    }
   ],
   "source": [
    "df = pd.read_csv(\"linear_regression_dataset.csv\")\n",
    "df"
   ]
  },
  {
   "cell_type": "code",
   "execution_count": null,
   "metadata": {},
   "outputs": [
    {
     "name": "stdout",
     "output_type": "stream",
     "text": [
      "<class 'pandas.core.frame.DataFrame'>\n",
      "RangeIndex: 500 entries, 0 to 499\n",
      "Data columns (total 6 columns):\n",
      " #   Column  Non-Null Count  Dtype  \n",
      "---  ------  --------------  -----  \n",
      " 0   AGE     500 non-null    int64  \n",
      " 1   FEMALE  500 non-null    int64  \n",
      " 2   LOS     500 non-null    int64  \n",
      " 3   RACE    499 non-null    float64\n",
      " 4   TOTCHG  500 non-null    int64  \n",
      " 5   APRDRG  500 non-null    int64  \n",
      "dtypes: float64(1), int64(5)\n",
      "memory usage: 23.6 KB\n"
     ]
    }
   ],
   "source": [
    "df.info()"
   ]
  },
  {
   "cell_type": "code",
   "execution_count": null,
   "metadata": {},
   "outputs": [
    {
     "name": "stdout",
     "output_type": "stream",
     "text": [
      "AGE       0\n",
      "FEMALE    0\n",
      "LOS       0\n",
      "RACE      1\n",
      "TOTCHG    0\n",
      "APRDRG    0\n",
      "dtype: int64\n"
     ]
    }
   ],
   "source": [
    "print(df.isnull().sum())"
   ]
  },
  {
   "cell_type": "code",
   "execution_count": null,
   "metadata": {},
   "outputs": [],
   "source": [
    "df = df.dropna()"
   ]
  },
  {
   "cell_type": "code",
   "execution_count": null,
   "metadata": {},
   "outputs": [
    {
     "name": "stdout",
     "output_type": "stream",
     "text": [
      "AGE       0\n",
      "FEMALE    0\n",
      "LOS       0\n",
      "RACE      0\n",
      "TOTCHG    0\n",
      "APRDRG    0\n",
      "dtype: int64\n"
     ]
    }
   ],
   "source": [
    "print(df.isnull().sum())"
   ]
  },
  {
   "cell_type": "code",
   "execution_count": null,
   "metadata": {},
   "outputs": [
    {
     "data": {
      "text/html": [
       "<div>\n",
       "<style scoped>\n",
       "    .dataframe tbody tr th:only-of-type {\n",
       "        vertical-align: middle;\n",
       "    }\n",
       "\n",
       "    .dataframe tbody tr th {\n",
       "        vertical-align: top;\n",
       "    }\n",
       "\n",
       "    .dataframe thead th {\n",
       "        text-align: right;\n",
       "    }\n",
       "</style>\n",
       "<table border=\"1\" class=\"dataframe\">\n",
       "  <thead>\n",
       "    <tr style=\"text-align: right;\">\n",
       "      <th></th>\n",
       "      <th>AGE</th>\n",
       "      <th>FEMALE</th>\n",
       "      <th>LOS</th>\n",
       "      <th>RACE</th>\n",
       "      <th>TOTCHG</th>\n",
       "      <th>APRDRG</th>\n",
       "    </tr>\n",
       "  </thead>\n",
       "  <tbody>\n",
       "    <tr>\n",
       "      <th>0</th>\n",
       "      <td>17</td>\n",
       "      <td>1</td>\n",
       "      <td>2</td>\n",
       "      <td>1.0</td>\n",
       "      <td>2660</td>\n",
       "      <td>560</td>\n",
       "    </tr>\n",
       "    <tr>\n",
       "      <th>1</th>\n",
       "      <td>17</td>\n",
       "      <td>0</td>\n",
       "      <td>2</td>\n",
       "      <td>1.0</td>\n",
       "      <td>1689</td>\n",
       "      <td>753</td>\n",
       "    </tr>\n",
       "    <tr>\n",
       "      <th>2</th>\n",
       "      <td>17</td>\n",
       "      <td>1</td>\n",
       "      <td>7</td>\n",
       "      <td>1.0</td>\n",
       "      <td>20060</td>\n",
       "      <td>930</td>\n",
       "    </tr>\n",
       "    <tr>\n",
       "      <th>3</th>\n",
       "      <td>17</td>\n",
       "      <td>1</td>\n",
       "      <td>1</td>\n",
       "      <td>1.0</td>\n",
       "      <td>736</td>\n",
       "      <td>758</td>\n",
       "    </tr>\n",
       "    <tr>\n",
       "      <th>4</th>\n",
       "      <td>17</td>\n",
       "      <td>1</td>\n",
       "      <td>1</td>\n",
       "      <td>1.0</td>\n",
       "      <td>1194</td>\n",
       "      <td>754</td>\n",
       "    </tr>\n",
       "    <tr>\n",
       "      <th>...</th>\n",
       "      <td>...</td>\n",
       "      <td>...</td>\n",
       "      <td>...</td>\n",
       "      <td>...</td>\n",
       "      <td>...</td>\n",
       "      <td>...</td>\n",
       "    </tr>\n",
       "    <tr>\n",
       "      <th>495</th>\n",
       "      <td>0</td>\n",
       "      <td>1</td>\n",
       "      <td>6</td>\n",
       "      <td>1.0</td>\n",
       "      <td>5881</td>\n",
       "      <td>636</td>\n",
       "    </tr>\n",
       "    <tr>\n",
       "      <th>496</th>\n",
       "      <td>0</td>\n",
       "      <td>1</td>\n",
       "      <td>2</td>\n",
       "      <td>1.0</td>\n",
       "      <td>1171</td>\n",
       "      <td>640</td>\n",
       "    </tr>\n",
       "    <tr>\n",
       "      <th>497</th>\n",
       "      <td>0</td>\n",
       "      <td>1</td>\n",
       "      <td>2</td>\n",
       "      <td>1.0</td>\n",
       "      <td>1171</td>\n",
       "      <td>640</td>\n",
       "    </tr>\n",
       "    <tr>\n",
       "      <th>498</th>\n",
       "      <td>0</td>\n",
       "      <td>1</td>\n",
       "      <td>2</td>\n",
       "      <td>1.0</td>\n",
       "      <td>1086</td>\n",
       "      <td>640</td>\n",
       "    </tr>\n",
       "    <tr>\n",
       "      <th>499</th>\n",
       "      <td>0</td>\n",
       "      <td>0</td>\n",
       "      <td>4</td>\n",
       "      <td>1.0</td>\n",
       "      <td>4931</td>\n",
       "      <td>640</td>\n",
       "    </tr>\n",
       "  </tbody>\n",
       "</table>\n",
       "<p>499 rows × 6 columns</p>\n",
       "</div>"
      ],
      "text/plain": [
       "     AGE  FEMALE  LOS  RACE  TOTCHG  APRDRG\n",
       "0     17       1    2   1.0    2660     560\n",
       "1     17       0    2   1.0    1689     753\n",
       "2     17       1    7   1.0   20060     930\n",
       "3     17       1    1   1.0     736     758\n",
       "4     17       1    1   1.0    1194     754\n",
       "..   ...     ...  ...   ...     ...     ...\n",
       "495    0       1    6   1.0    5881     636\n",
       "496    0       1    2   1.0    1171     640\n",
       "497    0       1    2   1.0    1171     640\n",
       "498    0       1    2   1.0    1086     640\n",
       "499    0       0    4   1.0    4931     640\n",
       "\n",
       "[499 rows x 6 columns]"
      ]
     },
     "execution_count": 7,
     "metadata": {},
     "output_type": "execute_result"
    }
   ],
   "source": [
    "df"
   ]
  },
  {
   "cell_type": "code",
   "execution_count": null,
   "metadata": {},
   "outputs": [
    {
     "data": {
      "image/png": "[encoded data removed]",
      "text/plain": [
       "<Figure size 640x480 with 2 Axes>"
      ]
     },
     "metadata": {},
     "output_type": "display_data"
    }
   ],
   "source": [
    "corr_matrix = df.corr()\n",
    "sns.heatmap(corr_matrix, annot=True, cmap=\"coolwarm\")\n",
    "plt.show()"
   ]
  },
  {
   "cell_type": "code",
   "execution_count": null,
   "metadata": {},
   "outputs": [
    {
     "data": {
      "image/png": "[encoded data removed]",
      "text/plain": [
       "<Figure size 640x480 with 1 Axes>"
      ]
     },
     "metadata": {},
     "output_type": "display_data"
    }
   ],
   "source": [
    "sns.boxplot(data=df)\n",
    "plt.show()"
   ]
  },
  {
   "cell_type": "code",
   "execution_count": null,
   "metadata": {},
   "outputs": [],
   "source": [
    "\n",
    "for col in df.columns:\n",
    "    Q1 = df[col].quantile(0.25)\n",
    "    Q3 = df[col].quantile(0.75)\n",
    "    IQR = Q3 - Q1\n",
    "    lower_bound = Q1 - 1.5 * IQR\n",
    "    upper_bound = Q3 + 1.5 * IQR\n",
    "    df = df[(df[col] >= lower_bound) & (df[col] <= upper_bound)]\n"
   ]
  },
  {
   "cell_type": "code",
   "execution_count": null,
   "metadata": {},
   "outputs": [
    {
     "data": {
      "image/png": "[encoded data removed]",
      "text/plain": [
       "<Figure size 640x480 with 1 Axes>"
      ]
     },
     "metadata": {},
     "output_type": "display_data"
    }
   ],
   "source": [
    "sns.boxplot(data=df)\n",
    "plt.show()"
   ]
  },
  {
   "cell_type": "code",
   "execution_count": null,
   "metadata": {},
   "outputs": [
    {
     "name": "stdout",
     "output_type": "stream",
     "text": [
      "count    369.0\n",
      "mean       1.0\n",
      "std        0.0\n",
      "min        1.0\n",
      "25%        1.0\n",
      "50%        1.0\n",
      "75%        1.0\n",
      "max        1.0\n",
      "Name: RACE, dtype: float64\n",
      "0\n",
      "1\n"
     ]
    }
   ],
   "source": [
    "print(df[\"RACE\"].describe())  # Check count, mean, std\n",
    "print(df[\"RACE\"].isna().sum())  # Check for NaNs\n",
    "print(df[\"RACE\"].nunique())  # Check unique values"
   ]
  },
  {
   "cell_type": "code",
   "execution_count": null,
   "metadata": {},
   "outputs": [],
   "source": [
    "# Q1 = df[\"TOTCHG\"].quantile(0.25)\n",
    "# Q3 = df[\"TOTCHG\"].quantile(0.75)\n",
    "# IQR = Q3 - Q1\n",
    "\n",
    "# # Define bounds for outliers\n",
    "# lower_bound = Q1 - 1.5 * IQR\n",
    "# upper_bound = Q3 + 1.5 * IQR\n",
    "# df = df[(df[\"TOTCHG\"] >= lower_bound) & (df[\"TOTCHG\"] <= upper_bound)]\n",
    "# df\n"
   ]
  },
  {
   "cell_type": "code",
   "execution_count": null,
   "metadata": {},
   "outputs": [],
   "source": [
    "race_column = df[\"RACE\"]\n",
    "df = df.drop(columns=[\"RACE\"])"
   ]
  },
  {
   "cell_type": "code",
   "execution_count": null,
   "metadata": {},
   "outputs": [],
   "source": [
    "X = df.drop(columns=[\"TOTCHG\"])  \n",
    "y = df[\"TOTCHG\"]  "
   ]
  },
  {
   "cell_type": "code",
   "execution_count": null,
   "metadata": {},
   "outputs": [
    {
     "data": {
      "text/html": [
       "<div>\n",
       "<style scoped>\n",
       "    .dataframe tbody tr th:only-of-type {\n",
       "        vertical-align: middle;\n",
       "    }\n",
       "\n",
       "    .dataframe tbody tr th {\n",
       "        vertical-align: top;\n",
       "    }\n",
       "\n",
       "    .dataframe thead th {\n",
       "        text-align: right;\n",
       "    }\n",
       "</style>\n",
       "<table border=\"1\" class=\"dataframe\">\n",
       "  <thead>\n",
       "    <tr style=\"text-align: right;\">\n",
       "      <th></th>\n",
       "      <th>AGE</th>\n",
       "      <th>FEMALE</th>\n",
       "      <th>LOS</th>\n",
       "      <th>APRDRG</th>\n",
       "    </tr>\n",
       "  </thead>\n",
       "  <tbody>\n",
       "    <tr>\n",
       "      <th>0</th>\n",
       "      <td>1.915350</td>\n",
       "      <td>0.923015</td>\n",
       "      <td>-0.284941</td>\n",
       "      <td>-2.056590</td>\n",
       "    </tr>\n",
       "    <tr>\n",
       "      <th>1</th>\n",
       "      <td>1.915350</td>\n",
       "      <td>-1.080470</td>\n",
       "      <td>-0.284941</td>\n",
       "      <td>1.540624</td>\n",
       "    </tr>\n",
       "    <tr>\n",
       "      <th>3</th>\n",
       "      <td>1.915350</td>\n",
       "      <td>0.923015</td>\n",
       "      <td>-1.536648</td>\n",
       "      <td>1.633816</td>\n",
       "    </tr>\n",
       "    <tr>\n",
       "      <th>4</th>\n",
       "      <td>1.915350</td>\n",
       "      <td>0.923015</td>\n",
       "      <td>-1.536648</td>\n",
       "      <td>1.559262</td>\n",
       "    </tr>\n",
       "    <tr>\n",
       "      <th>6</th>\n",
       "      <td>1.915350</td>\n",
       "      <td>0.923015</td>\n",
       "      <td>2.218473</td>\n",
       "      <td>1.559262</td>\n",
       "    </tr>\n",
       "    <tr>\n",
       "      <th>...</th>\n",
       "      <td>...</td>\n",
       "      <td>...</td>\n",
       "      <td>...</td>\n",
       "      <td>...</td>\n",
       "    </tr>\n",
       "    <tr>\n",
       "      <th>493</th>\n",
       "      <td>-0.619458</td>\n",
       "      <td>-1.080470</td>\n",
       "      <td>-0.284941</td>\n",
       "      <td>-0.565517</td>\n",
       "    </tr>\n",
       "    <tr>\n",
       "      <th>494</th>\n",
       "      <td>-0.619458</td>\n",
       "      <td>0.923015</td>\n",
       "      <td>0.966766</td>\n",
       "      <td>-0.565517</td>\n",
       "    </tr>\n",
       "    <tr>\n",
       "      <th>496</th>\n",
       "      <td>-0.619458</td>\n",
       "      <td>0.923015</td>\n",
       "      <td>-0.284941</td>\n",
       "      <td>-0.565517</td>\n",
       "    </tr>\n",
       "    <tr>\n",
       "      <th>497</th>\n",
       "      <td>-0.619458</td>\n",
       "      <td>0.923015</td>\n",
       "      <td>-0.284941</td>\n",
       "      <td>-0.565517</td>\n",
       "    </tr>\n",
       "    <tr>\n",
       "      <th>498</th>\n",
       "      <td>-0.619458</td>\n",
       "      <td>0.923015</td>\n",
       "      <td>-0.284941</td>\n",
       "      <td>-0.565517</td>\n",
       "    </tr>\n",
       "  </tbody>\n",
       "</table>\n",
       "<p>369 rows × 4 columns</p>\n",
       "</div>"
      ],
      "text/plain": [
       "          AGE    FEMALE       LOS    APRDRG\n",
       "0    1.915350  0.923015 -0.284941 -2.056590\n",
       "1    1.915350 -1.080470 -0.284941  1.540624\n",
       "3    1.915350  0.923015 -1.536648  1.633816\n",
       "4    1.915350  0.923015 -1.536648  1.559262\n",
       "6    1.915350  0.923015  2.218473  1.559262\n",
       "..        ...       ...       ...       ...\n",
       "493 -0.619458 -1.080470 -0.284941 -0.565517\n",
       "494 -0.619458  0.923015  0.966766 -0.565517\n",
       "496 -0.619458  0.923015 -0.284941 -0.565517\n",
       "497 -0.619458  0.923015 -0.284941 -0.565517\n",
       "498 -0.619458  0.923015 -0.284941 -0.565517\n",
       "\n",
       "[369 rows x 4 columns]"
      ]
     },
     "execution_count": 16,
     "metadata": {},
     "output_type": "execute_result"
    }
   ],
   "source": [
    "X = (X - X.mean()) / X.std()\n",
    "X"
   ]
  },
  {
   "cell_type": "code",
   "execution_count": null,
   "metadata": {},
   "outputs": [],
   "source": [
    "split_index = int(len(df) * 0.8)\n",
    "X_train, X_test = X.iloc[:split_index], X.iloc[split_index:]\n",
    "y_train, y_test = y.iloc[:split_index], y.iloc[split_index:]\n",
    "\n"
   ]
  },
  {
   "cell_type": "code",
   "execution_count": null,
   "metadata": {},
   "outputs": [],
   "source": [
    "# X_train = (X_train - X_train.mean()) / X_train.std()\n",
    "# X_test = (X_test - X_train.mean()) / X_train.std()\n"
   ]
  },
  {
   "cell_type": "code",
   "execution_count": null,
   "metadata": {},
   "outputs": [
    {
     "name": "stderr",
     "output_type": "stream",
     "text": [
      "/var/folders/k7/w2tqyfns13x64vwpz_mbz7bh0000gn/T/ipykernel_61120/919434331.py:1: SettingWithCopyWarning: \n",
      "A value is trying to be set on a copy of a slice from a DataFrame.\n",
      "Try using .loc[row_indexer,col_indexer] = value instead\n",
      "\n",
      "See the caveats in the documentation: https://pandas.pydata.org/pandas-docs/stable/user_guide/indexing.html#returning-a-view-versus-a-copy\n",
      "  X_train.loc[:, \"RACE\"] = race_column.iloc[:split_index].values\n",
      "/var/folders/k7/w2tqyfns13x64vwpz_mbz7bh0000gn/T/ipykernel_61120/919434331.py:2: SettingWithCopyWarning: \n",
      "A value is trying to be set on a copy of a slice from a DataFrame.\n",
      "Try using .loc[row_indexer,col_indexer] = value instead\n",
      "\n",
      "See the caveats in the documentation: https://pandas.pydata.org/pandas-docs/stable/user_guide/indexing.html#returning-a-view-versus-a-copy\n",
      "  X_test.loc[:, \"RACE\"] = race_column.iloc[split_index:].values\n"
     ]
    }
   ],
   "source": [
    "X_train.loc[:, \"RACE\"] = race_column.iloc[:split_index].values\n",
    "X_test.loc[:, \"RACE\"] = race_column.iloc[split_index:].values"
   ]
  },
  {
   "cell_type": "code",
   "execution_count": null,
   "metadata": {},
   "outputs": [
    {
     "data": {
      "text/html": [
       "<div>\n",
       "<style scoped>\n",
       "    .dataframe tbody tr th:only-of-type {\n",
       "        vertical-align: middle;\n",
       "    }\n",
       "\n",
       "    .dataframe tbody tr th {\n",
       "        vertical-align: top;\n",
       "    }\n",
       "\n",
       "    .dataframe thead th {\n",
       "        text-align: right;\n",
       "    }\n",
       "</style>\n",
       "<table border=\"1\" class=\"dataframe\">\n",
       "  <thead>\n",
       "    <tr style=\"text-align: right;\">\n",
       "      <th></th>\n",
       "      <th>AGE</th>\n",
       "      <th>FEMALE</th>\n",
       "      <th>LOS</th>\n",
       "      <th>APRDRG</th>\n",
       "      <th>RACE</th>\n",
       "    </tr>\n",
       "  </thead>\n",
       "  <tbody>\n",
       "    <tr>\n",
       "      <th>0</th>\n",
       "      <td>1.915350</td>\n",
       "      <td>0.923015</td>\n",
       "      <td>-0.284941</td>\n",
       "      <td>-2.056590</td>\n",
       "      <td>1.0</td>\n",
       "    </tr>\n",
       "    <tr>\n",
       "      <th>1</th>\n",
       "      <td>1.915350</td>\n",
       "      <td>-1.080470</td>\n",
       "      <td>-0.284941</td>\n",
       "      <td>1.540624</td>\n",
       "      <td>1.0</td>\n",
       "    </tr>\n",
       "    <tr>\n",
       "      <th>3</th>\n",
       "      <td>1.915350</td>\n",
       "      <td>0.923015</td>\n",
       "      <td>-1.536648</td>\n",
       "      <td>1.633816</td>\n",
       "      <td>1.0</td>\n",
       "    </tr>\n",
       "    <tr>\n",
       "      <th>4</th>\n",
       "      <td>1.915350</td>\n",
       "      <td>0.923015</td>\n",
       "      <td>-1.536648</td>\n",
       "      <td>1.559262</td>\n",
       "      <td>1.0</td>\n",
       "    </tr>\n",
       "    <tr>\n",
       "      <th>6</th>\n",
       "      <td>1.915350</td>\n",
       "      <td>0.923015</td>\n",
       "      <td>2.218473</td>\n",
       "      <td>1.559262</td>\n",
       "      <td>1.0</td>\n",
       "    </tr>\n",
       "    <tr>\n",
       "      <th>...</th>\n",
       "      <td>...</td>\n",
       "      <td>...</td>\n",
       "      <td>...</td>\n",
       "      <td>...</td>\n",
       "      <td>...</td>\n",
       "    </tr>\n",
       "    <tr>\n",
       "      <th>404</th>\n",
       "      <td>-0.619458</td>\n",
       "      <td>0.923015</td>\n",
       "      <td>-0.284941</td>\n",
       "      <td>-0.565517</td>\n",
       "      <td>1.0</td>\n",
       "    </tr>\n",
       "    <tr>\n",
       "      <th>406</th>\n",
       "      <td>-0.619458</td>\n",
       "      <td>-1.080470</td>\n",
       "      <td>-0.284941</td>\n",
       "      <td>-0.565517</td>\n",
       "      <td>1.0</td>\n",
       "    </tr>\n",
       "    <tr>\n",
       "      <th>407</th>\n",
       "      <td>-0.619458</td>\n",
       "      <td>0.923015</td>\n",
       "      <td>0.966766</td>\n",
       "      <td>-0.695986</td>\n",
       "      <td>1.0</td>\n",
       "    </tr>\n",
       "    <tr>\n",
       "      <th>408</th>\n",
       "      <td>-0.619458</td>\n",
       "      <td>-1.080470</td>\n",
       "      <td>-0.284941</td>\n",
       "      <td>-0.565517</td>\n",
       "      <td>1.0</td>\n",
       "    </tr>\n",
       "    <tr>\n",
       "      <th>409</th>\n",
       "      <td>-0.619458</td>\n",
       "      <td>-1.080470</td>\n",
       "      <td>-0.284941</td>\n",
       "      <td>-0.565517</td>\n",
       "      <td>1.0</td>\n",
       "    </tr>\n",
       "  </tbody>\n",
       "</table>\n",
       "<p>295 rows × 5 columns</p>\n",
       "</div>"
      ],
      "text/plain": [
       "          AGE    FEMALE       LOS    APRDRG  RACE\n",
       "0    1.915350  0.923015 -0.284941 -2.056590   1.0\n",
       "1    1.915350 -1.080470 -0.284941  1.540624   1.0\n",
       "3    1.915350  0.923015 -1.536648  1.633816   1.0\n",
       "4    1.915350  0.923015 -1.536648  1.559262   1.0\n",
       "6    1.915350  0.923015  2.218473  1.559262   1.0\n",
       "..        ...       ...       ...       ...   ...\n",
       "404 -0.619458  0.923015 -0.284941 -0.565517   1.0\n",
       "406 -0.619458 -1.080470 -0.284941 -0.565517   1.0\n",
       "407 -0.619458  0.923015  0.966766 -0.695986   1.0\n",
       "408 -0.619458 -1.080470 -0.284941 -0.565517   1.0\n",
       "409 -0.619458 -1.080470 -0.284941 -0.565517   1.0\n",
       "\n",
       "[295 rows x 5 columns]"
      ]
     },
     "execution_count": 20,
     "metadata": {},
     "output_type": "execute_result"
    }
   ],
   "source": [
    "X_train"
   ]
  },
  {
   "cell_type": "code",
   "execution_count": null,
   "metadata": {},
   "outputs": [
    {
     "data": {
      "text/html": [
       "<div>\n",
       "<style scoped>\n",
       "    .dataframe tbody tr th:only-of-type {\n",
       "        vertical-align: middle;\n",
       "    }\n",
       "\n",
       "    .dataframe tbody tr th {\n",
       "        vertical-align: top;\n",
       "    }\n",
       "\n",
       "    .dataframe thead th {\n",
       "        text-align: right;\n",
       "    }\n",
       "</style>\n",
       "<table border=\"1\" class=\"dataframe\">\n",
       "  <thead>\n",
       "    <tr style=\"text-align: right;\">\n",
       "      <th></th>\n",
       "      <th>AGE</th>\n",
       "      <th>FEMALE</th>\n",
       "      <th>LOS</th>\n",
       "      <th>APRDRG</th>\n",
       "      <th>RACE</th>\n",
       "    </tr>\n",
       "  </thead>\n",
       "  <tbody>\n",
       "    <tr>\n",
       "      <th>411</th>\n",
       "      <td>-0.619458</td>\n",
       "      <td>-1.080470</td>\n",
       "      <td>0.966766</td>\n",
       "      <td>-0.565517</td>\n",
       "      <td>1.0</td>\n",
       "    </tr>\n",
       "    <tr>\n",
       "      <th>413</th>\n",
       "      <td>-0.619458</td>\n",
       "      <td>0.923015</td>\n",
       "      <td>-0.284941</td>\n",
       "      <td>-0.565517</td>\n",
       "      <td>1.0</td>\n",
       "    </tr>\n",
       "    <tr>\n",
       "      <th>414</th>\n",
       "      <td>-0.619458</td>\n",
       "      <td>0.923015</td>\n",
       "      <td>0.966766</td>\n",
       "      <td>-0.565517</td>\n",
       "      <td>1.0</td>\n",
       "    </tr>\n",
       "    <tr>\n",
       "      <th>415</th>\n",
       "      <td>-0.619458</td>\n",
       "      <td>0.923015</td>\n",
       "      <td>-0.284941</td>\n",
       "      <td>-0.565517</td>\n",
       "      <td>1.0</td>\n",
       "    </tr>\n",
       "    <tr>\n",
       "      <th>416</th>\n",
       "      <td>-0.619458</td>\n",
       "      <td>0.923015</td>\n",
       "      <td>0.966766</td>\n",
       "      <td>-0.565517</td>\n",
       "      <td>1.0</td>\n",
       "    </tr>\n",
       "    <tr>\n",
       "      <th>...</th>\n",
       "      <td>...</td>\n",
       "      <td>...</td>\n",
       "      <td>...</td>\n",
       "      <td>...</td>\n",
       "      <td>...</td>\n",
       "    </tr>\n",
       "    <tr>\n",
       "      <th>493</th>\n",
       "      <td>-0.619458</td>\n",
       "      <td>-1.080470</td>\n",
       "      <td>-0.284941</td>\n",
       "      <td>-0.565517</td>\n",
       "      <td>1.0</td>\n",
       "    </tr>\n",
       "    <tr>\n",
       "      <th>494</th>\n",
       "      <td>-0.619458</td>\n",
       "      <td>0.923015</td>\n",
       "      <td>0.966766</td>\n",
       "      <td>-0.565517</td>\n",
       "      <td>1.0</td>\n",
       "    </tr>\n",
       "    <tr>\n",
       "      <th>496</th>\n",
       "      <td>-0.619458</td>\n",
       "      <td>0.923015</td>\n",
       "      <td>-0.284941</td>\n",
       "      <td>-0.565517</td>\n",
       "      <td>1.0</td>\n",
       "    </tr>\n",
       "    <tr>\n",
       "      <th>497</th>\n",
       "      <td>-0.619458</td>\n",
       "      <td>0.923015</td>\n",
       "      <td>-0.284941</td>\n",
       "      <td>-0.565517</td>\n",
       "      <td>1.0</td>\n",
       "    </tr>\n",
       "    <tr>\n",
       "      <th>498</th>\n",
       "      <td>-0.619458</td>\n",
       "      <td>0.923015</td>\n",
       "      <td>-0.284941</td>\n",
       "      <td>-0.565517</td>\n",
       "      <td>1.0</td>\n",
       "    </tr>\n",
       "  </tbody>\n",
       "</table>\n",
       "<p>74 rows × 5 columns</p>\n",
       "</div>"
      ],
      "text/plain": [
       "          AGE    FEMALE       LOS    APRDRG  RACE\n",
       "411 -0.619458 -1.080470  0.966766 -0.565517   1.0\n",
       "413 -0.619458  0.923015 -0.284941 -0.565517   1.0\n",
       "414 -0.619458  0.923015  0.966766 -0.565517   1.0\n",
       "415 -0.619458  0.923015 -0.284941 -0.565517   1.0\n",
       "416 -0.619458  0.923015  0.966766 -0.565517   1.0\n",
       "..        ...       ...       ...       ...   ...\n",
       "493 -0.619458 -1.080470 -0.284941 -0.565517   1.0\n",
       "494 -0.619458  0.923015  0.966766 -0.565517   1.0\n",
       "496 -0.619458  0.923015 -0.284941 -0.565517   1.0\n",
       "497 -0.619458  0.923015 -0.284941 -0.565517   1.0\n",
       "498 -0.619458  0.923015 -0.284941 -0.565517   1.0\n",
       "\n",
       "[74 rows x 5 columns]"
      ]
     },
     "execution_count": 21,
     "metadata": {},
     "output_type": "execute_result"
    }
   ],
   "source": [
    "X_test"
   ]
  },
  {
   "cell_type": "code",
   "execution_count": null,
   "metadata": {},
   "outputs": [],
   "source": [
    "X_train.to_csv(\"X_train.csv\", index=False)\n",
    "X_test.to_csv(\"X_test.csv\", index=False)\n",
    "y_train.to_csv(\"y_train.csv\", index=False)\n",
    "y_test.to_csv(\"y_test.csv\", index=False)"
   ]
  },
  {
   "cell_type": "code",
   "execution_count": null,
   "metadata": {},
   "outputs": [],
   "source": [
    "y_train = y_train.to_numpy()\n",
    "y_test = y_test.to_numpy()\n"
   ]
  },
  {
   "cell_type": "code",
   "execution_count": null,
   "metadata": {},
   "outputs": [],
   "source": [
    "X_train = X_train.to_numpy()\n",
    "X_test = X_test.to_numpy()"
   ]
  },
  {
   "cell_type": "code",
   "execution_count": null,
   "metadata": {},
   "outputs": [],
   "source": [
    "# def compute_cost(X_train, y_train, w, b):   \n",
    "#     m,n = X_train.shape\n",
    "#     cost = 0.0\n",
    "#     for i in range(m):                                \n",
    "#         f_wb_i = np.dot(X_train[i], w) + b           \n",
    "#         cost = cost + (f_wb_i - y_train[i])**2\n",
    "#     cost = cost / (2 * m)    \n",
    "#     return cost                     "
   ]
  },
  {
   "cell_type": "code",
   "execution_count": null,
   "metadata": {},
   "outputs": [
    {
     "name": "stdout",
     "output_type": "stream",
     "text": [
      "[-2.32157035  0.05994496  0.02332381  2.32075823 -0.01141941]\n",
      "-0.011419412903258921\n"
     ]
    }
   ],
   "source": [
    "## THIS IS TRAINING SET\n",
    "\n",
    "iterations = 2800\n",
    "alpha = 0.008\n",
    "cost_calc = []\n",
    "m,n = X_train.shape\n",
    "w = np.zeros(n)\n",
    "b = 0\n",
    "tolerance = 1e-6\n",
    "previous_cost = float(\"inf\")\n",
    "\n",
    "# for p in range(iterations):\n",
    "#     dj_dw = np.zeros((n,))\n",
    "#     dj_db = 0.\n",
    "\n",
    "#     for i in range(m):                             \n",
    "#         err = (np.dot(X_train[i], w) + b) - y_train[i]   \n",
    "#         for j in range(n):                         \n",
    "#             dj_dw[j] = dj_dw[j] + err * X_train[i, j]    \n",
    "#         dj_db = dj_db + err                        \n",
    "    \n",
    "#     dj_dw = dj_dw / m                                \n",
    "#     dj_db = dj_db / m    \n",
    "#     w = w - alpha*dj_dw\n",
    "#     b = b - alpha*dj_db \n",
    "\n",
    "#     if i<100000:      \n",
    "#             cost_calc.append( compute_cost(X_train, y_train, w, b))\n",
    "\n",
    "\n",
    "for _ in range(iterations):\n",
    "    err = np.dot(X_train, w.T) + b - y_train\n",
    "    \n",
    "    dj_dw = (1/m) * np.dot(X_train.T, err)  \n",
    "    dj_db = (1/m) * np.sum(err)  \n",
    "\n",
    "    w = w - alpha * dj_dw\n",
    "    b = b - alpha * dj_db\n",
    "\n",
    "    cost = (1/(2*m)) * np.sum(err**2)\n",
    "    cost_calc.append(cost)\n",
    "\n",
    "    if abs(previous_cost - cost) < tolerance:\n",
    "        print(f\"Early stopping at iteration {_}\")\n",
    "        break\n",
    "    previous_cost = cost\n",
    "\n",
    "        \n",
    "print(dj_dw)\n",
    "print(dj_db)"
   ]
  },
  {
   "cell_type": "code",
   "execution_count": null,
   "metadata": {},
   "outputs": [
    {
     "name": "stdout",
     "output_type": "stream",
     "text": [
      "[-0.2573718   0.02544913  0.03865733  0.25338421  0.0028347 ]\n",
      "0.0028346953192625907\n"
     ]
    }
   ],
   "source": [
    "## THIS IS TEST SET \n",
    "\n",
    "iteration = 2800\n",
    "alph = 0.008\n",
    "cost_calcu = []\n",
    "p,q = X_test.shape\n",
    "t = np.zeros(n)\n",
    "r = 0\n",
    "tol = 1e-6\n",
    "previous_cost_test = float(\"inf\")\n",
    "\n",
    "# for p in range(iterations):\n",
    "#     dj_dw = np.zeros((n,))\n",
    "#     dj_db = 0.\n",
    "\n",
    "#     for i in range(m):                             \n",
    "#         err = (np.dot(X_train[i], w) + b) - y_train[i]   \n",
    "#         for j in range(n):                         \n",
    "#             dj_dw[j] = dj_dw[j] + err * X_train[i, j]    \n",
    "#         dj_db = dj_db + err                        \n",
    "    \n",
    "#     dj_dw = dj_dw / m                                \n",
    "#     dj_db = dj_db / m    \n",
    "#     w = w - alpha*dj_dw\n",
    "#     b = b - alpha*dj_db \n",
    "\n",
    "#     if i<100000:      \n",
    "#             cost_calc.append( compute_cost(X_train, y_train, w, b))\n",
    "\n",
    "\n",
    "for _ in range(iteration):\n",
    "    erro = np.dot(X_test, t.T) + r - y_test\n",
    "    \n",
    "    dj_dw_i = (1/p) * np.dot(X_test.T, erro)  \n",
    "    dj_db_i = (1/p) * np.sum(erro)  \n",
    "\n",
    "    t = t - alph * dj_dw_i\n",
    "    r = r - alph * dj_db_i\n",
    "\n",
    "    costu = (1/(2*m)) * np.sum(erro**2)\n",
    "    cost_calcu.append(costu)\n",
    "    if abs(previous_cost_test - costu) < tol:\n",
    "        print(f\"Early stopping at iteration {_}\")\n",
    "        break\n",
    "    previous_cost_test = costu\n",
    "    \n",
    "        \n",
    "print(dj_dw_i)\n",
    "print(dj_db_i)"
   ]
  },
  {
   "cell_type": "code",
   "execution_count": null,
   "metadata": {},
   "outputs": [
    {
     "name": "stdout",
     "output_type": "stream",
     "text": [
      "[ 159.41160739  -75.54402372  417.0086709  -111.49052708  758.05760807]\n",
      "758.0576080735902\n",
      "[ 145.31894274  -68.02432592  455.42147194 -110.06075983  732.94954816]\n",
      "732.9495481599491\n"
     ]
    }
   ],
   "source": [
    "print(w)\n",
    "print(b)\n",
    "\n",
    "print(t)\n",
    "print(r)\n"
   ]
  },
  {
   "cell_type": "code",
   "execution_count": null,
   "metadata": {},
   "outputs": [],
   "source": [
    "# iteration = 3000\n",
    "# alph = 0.001\n",
    "# [48.15139814 -59.59100856 392.01338674 -15.87456652 755.44591237]\n",
    "# 755.4459123714284\n",
    "# [ 53.32956575 -56.1225082  428.73677596 -99.21998393 715.43653479]\n",
    "# 715.4365347928681"
   ]
  },
  {
   "cell_type": "code",
   "execution_count": null,
   "metadata": {},
   "outputs": [
    {
     "data": {
      "image/png": "[encoded data removed]",
      "text/plain": [
       "<Figure size 1200x400 with 2 Axes>"
      ]
     },
     "metadata": {},
     "output_type": "display_data"
    }
   ],
   "source": [
    "fig, (ax1, ax2) = plt.subplots(1, 2, constrained_layout=True, figsize=(12, 4))\n",
    "ax1.plot(cost_calc)\n",
    "ax2.plot(100 + np.arange(len(cost_calc[100:])), cost_calc[100:])\n",
    "ax1.set_title(\"Cost vs. iteration\");  ax2.set_title(\"Cost vs. iteration (tail)\")\n",
    "ax1.set_ylabel('Cost')             ;  ax2.set_ylabel('Cost') \n",
    "ax1.set_xlabel('iteration step')   ;  ax2.set_xlabel('iteration step') \n",
    "plt.show()"
   ]
  },
  {
   "cell_type": "code",
   "execution_count": null,
   "metadata": {},
   "outputs": [
    {
     "data": {
      "image/png": "[encoded data removed]",
      "text/plain": [
       "<Figure size 1200x400 with 2 Axes>"
      ]
     },
     "metadata": {},
     "output_type": "display_data"
    }
   ],
   "source": [
    "fig, (ax1, ax2) = plt.subplots(1, 2, constrained_layout=True, figsize=(12, 4))\n",
    "ax1.plot(cost_calcu)\n",
    "ax2.plot(100 + np.arange(len(cost_calcu[100:])), cost_calcu[100:])\n",
    "ax1.set_title(\"Cost vs. iteration\");  ax2.set_title(\"Cost vs. iteration (tail)\")\n",
    "ax1.set_ylabel('Cost')             ;  ax2.set_ylabel('Cost') \n",
    "ax1.set_xlabel('iteration step')   ;  ax2.set_xlabel('iteration step') \n",
    "plt.show()"
   ]
  },
  {
   "cell_type": "code",
   "execution_count": null,
   "metadata": {},
   "outputs": [],
   "source": [
    "## Linear Regression Model is:"
   ]
  },
  {
   "cell_type": "code",
   "execution_count": null,
   "metadata": {},
   "outputs": [],
   "source": [
    "y_pred = np.array\n",
    "y_pred = np.dot(X_test, w) + b"
   ]
  },
  {
   "cell_type": "code",
   "execution_count": null,
   "metadata": {},
   "outputs": [
    {
     "name": "stdout",
     "output_type": "stream",
     "text": [
      "R² Score: 68.67005143703145\n"
     ]
    }
   ],
   "source": [
    "ss_total = np.sum((y_test - np.mean(y_test)) ** 2)\n",
    "ss_residual = np.sum((y_test - y_pred) ** 2)\n",
    "r2_score = (1 - (ss_residual / ss_total))*100\n",
    "print(f\"R² Score: {r2_score}\")"
   ]
  },
  {
   "cell_type": "code",
   "execution_count": null,
   "metadata": {},
   "outputs": [],
   "source": [
    "# R² Score: 68.67005143703145\n",
    "# AT epochs 2800 & alpha 0.008"
   ]
  },
  {
   "cell_type": "code",
   "execution_count": null,
   "metadata": {},
   "outputs": [
    {
     "data": {
      "image/png": "[encoded data removed]",
      "text/plain": [
       "<Figure size 600x600 with 1 Axes>"
      ]
     },
     "metadata": {},
     "output_type": "display_data"
    }
   ],
   "source": [
    "plt.figure(figsize=(6,6))\n",
    "sns.scatterplot(x=y_test, y=y_pred)\n",
    "plt.xlabel(\"Actual TOTCHG\")\n",
    "plt.ylabel(\"Predicted TOTCHG\")\n",
    "plt.title(\"Actual vs Predicted Values\")\n",
    "plt.plot([y_test.min(), y_test.max()], [y_test.min(), y_test.max()], color='red', linestyle='dashed') \n",
    "plt.show()"
   ]
  },
  {
   "cell_type": "code",
   "execution_count": null,
   "metadata": {},
   "outputs": [],
   "source": []
  }
 ],
 "metadata": {
  "kernelspec": {
   "display_name": ".venv",
   "language": "python",
   "name": "python3"
  },
  "language_info": {
   "codemirror_mode": {
    "name": "ipython",
    "version": 3
   },
   "file_extension": ".py",
   "mimetype": "text/x-python",
   "name": "python",
   "nbconvert_exporter": "python",
   "pygments_lexer": "ipython3",
   "version": "3.9.6"
  }
 },
 "nbformat": 4,
 "nbformat_minor": 2
}
